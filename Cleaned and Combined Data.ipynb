{
 "cells": [
  {
   "cell_type": "markdown",
   "metadata": {},
   "source": [
    "Cleaned and Combined Data"
   ]
  },
  {
   "cell_type": "code",
   "execution_count": 6,
   "metadata": {},
   "outputs": [
    {
     "name": "stdout",
     "output_type": "stream",
     "text": [
      "Data combined and cleaned successfully!\n"
     ]
    }
   ],
   "source": [
    "import pandas as pd\n",
    "import os\n",
    "\n",
    "# Define the path where your CSV files are stored\n",
    "data_path = 'C:\\ALL folder in dexstop\\PycharmProjects\\GUVI-Ai\\Resource Management\\data'  # Update this to the correct path\n",
    "\n",
    "# Get all CSV files from the directory\n",
    "csv_files = [file for file in os.listdir(data_path) if file.endswith('.csv')]\n",
    "\n",
    "# Initialize an empty list to hold dataframes\n",
    "df_list = []\n",
    "\n",
    "# Loop through and read each CSV file into a dataframe\n",
    "for file in csv_files:\n",
    "    df = pd.read_csv(os.path.join(data_path, file), encoding='ISO-8859-1')\n",
    "    \n",
    "    # Rename 'NIC Name' to 'Industry' for consistency\n",
    "    if 'NIC Name' in df.columns:\n",
    "        df.rename(columns={'NIC Name': 'Industry'}, inplace=True)\n",
    "    \n",
    "    df_list.append(df)\n",
    "\n",
    "# Combine all dataframes into one\n",
    "combined_df = pd.concat(df_list, ignore_index=True)\n",
    "\n",
    "# Clean the data (example cleaning steps)\n",
    "combined_df.dropna(inplace=True)  # Dropping missing values\n",
    "combined_df['Industry'] = combined_df['Industry'].str.strip()  # Removing extra spaces\n",
    "\n",
    "# Save the cleaned data to a new CSV file\n",
    "combined_df.to_csv('cleaned_combined_data.csv', index=False)\n",
    "\n",
    "print(\"Data combined and cleaned successfully!\")\n"
   ]
  }
 ],
 "metadata": {
  "kernelspec": {
   "display_name": "base",
   "language": "python",
   "name": "python3"
  },
  "language_info": {
   "codemirror_mode": {
    "name": "ipython",
    "version": 3
   },
   "file_extension": ".py",
   "mimetype": "text/x-python",
   "name": "python",
   "nbconvert_exporter": "python",
   "pygments_lexer": "ipython3",
   "version": "3.11.4"
  }
 },
 "nbformat": 4,
 "nbformat_minor": 2
}
